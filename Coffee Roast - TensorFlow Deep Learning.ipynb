{
 "cells": [
  {
   "cell_type": "markdown",
   "id": "9ae95cb8",
   "metadata": {},
   "source": [
    "# Coffee Roast Deep Learning Model"
   ]
  },
  {
   "cell_type": "code",
   "execution_count": 24,
   "id": "4e9cb2d8",
   "metadata": {},
   "outputs": [],
   "source": [
    "# import tensorflow, numpy, matplotlib and pandas\n",
    "import tensorflow as tf\n",
    "from tensorflow.keras.layers import Dense, Input\n",
    "from tensorflow.keras import Sequential\n",
    "from tensorflow.keras.losses import MeanSquaredError, BinaryCrossentropy\n",
    "from tensorflow.keras.activations import sigmoid\n",
    "import numpy as np\n",
    "import matplotlib.pyplot as plt\n",
    "import pandas as pd"
   ]
  },
  {
   "cell_type": "code",
   "execution_count": 25,
   "id": "4b648446",
   "metadata": {},
   "outputs": [],
   "source": [
    "# Generate coffee roast artificial data\n",
    "# Credits: Advanced Algorithms, Stanford University & DeepLearning.AI\n",
    "def load_coffee_data():\n",
    "    \"\"\" Creates a coffee roasting data set.\n",
    "        roasting duration: 12-15 minutes is best\n",
    "        temperature range: 175-260C is best\n",
    "    \"\"\"\n",
    "    rng = np.random.default_rng(2)\n",
    "    X = rng.random(400).reshape(-1,2)\n",
    "    X[:,1] = X[:,1] * 4 + 11.5          # 12-15 min is best\n",
    "    X[:,0] = X[:,0] * (285-150) + 150  # 350-500 F (175-260 C) is best\n",
    "    Y = np.zeros(len(X))\n",
    "    \n",
    "    i=0\n",
    "    for t,d in X:\n",
    "        y = -3/(260-175)*t + 21\n",
    "        if (t > 175 and t < 260 and d > 12 and d < 15 and d<=y ):\n",
    "            Y[i] = 1\n",
    "        else:\n",
    "            Y[i] = 0\n",
    "        i += 1\n",
    "\n",
    "    return (X, Y.reshape(-1,1))"
   ]
  },
  {
   "cell_type": "code",
   "execution_count": 35,
   "id": "dd58b000",
   "metadata": {},
   "outputs": [
    {
     "data": {
      "text/html": [
       "<div>\n",
       "<style scoped>\n",
       "    .dataframe tbody tr th:only-of-type {\n",
       "        vertical-align: middle;\n",
       "    }\n",
       "\n",
       "    .dataframe tbody tr th {\n",
       "        vertical-align: top;\n",
       "    }\n",
       "\n",
       "    .dataframe thead th {\n",
       "        text-align: right;\n",
       "    }\n",
       "</style>\n",
       "<table border=\"1\" class=\"dataframe\">\n",
       "  <thead>\n",
       "    <tr style=\"text-align: right;\">\n",
       "      <th></th>\n",
       "      <th>Temp(C)</th>\n",
       "      <th>Time(min)</th>\n",
       "    </tr>\n",
       "  </thead>\n",
       "  <tbody>\n",
       "    <tr>\n",
       "      <th>182</th>\n",
       "      <td>237.207317</td>\n",
       "      <td>14.228610</td>\n",
       "    </tr>\n",
       "    <tr>\n",
       "      <th>79</th>\n",
       "      <td>234.574224</td>\n",
       "      <td>14.271182</td>\n",
       "    </tr>\n",
       "    <tr>\n",
       "      <th>141</th>\n",
       "      <td>190.793580</td>\n",
       "      <td>15.281168</td>\n",
       "    </tr>\n",
       "    <tr>\n",
       "      <th>148</th>\n",
       "      <td>172.340408</td>\n",
       "      <td>11.985262</td>\n",
       "    </tr>\n",
       "    <tr>\n",
       "      <th>172</th>\n",
       "      <td>241.380696</td>\n",
       "      <td>12.018021</td>\n",
       "    </tr>\n",
       "  </tbody>\n",
       "</table>\n",
       "</div>"
      ],
      "text/plain": [
       "        Temp(C)  Time(min)\n",
       "182  237.207317  14.228610\n",
       "79   234.574224  14.271182\n",
       "141  190.793580  15.281168\n",
       "148  172.340408  11.985262\n",
       "172  241.380696  12.018021"
      ]
     },
     "execution_count": 35,
     "metadata": {},
     "output_type": "execute_result"
    }
   ],
   "source": [
    "#load and visualize data sample\n",
    "X,y = load_coffee_data()\n",
    "\n",
    "x_frame = pd.DataFrame(X)\n",
    "x_frame.rename(columns = {0:'Temp(C)',1:'Time(min)'},inplace = True)\n",
    "x_frame.sample(5)"
   ]
  },
  {
   "cell_type": "code",
   "execution_count": 6,
   "id": "eb8ee860",
   "metadata": {},
   "outputs": [
    {
     "data": {
      "image/png": "[encoded data removed]",
      "text/plain": [
       "<Figure size 432x288 with 1 Axes>"
      ]
     },
     "metadata": {
      "needs_background": "light"
     },
     "output_type": "display_data"
    }
   ],
   "source": [
    "# plot: visualize data \n",
    "fig, ax = plt.subplots(1,1)\n",
    "y = y.reshape(-1,)\n",
    "ax.scatter(X[y==1,0],X[y==1,1], s=70, marker='x', c='red', label=\"Good Roast\" )\n",
    "ax.scatter(X[y==0,0],X[y==0,1], s=70, marker='o', label=\"Bad Roast\" )\n",
    "ax.set_title('Coffee Roasting',size=16)\n",
    "ax.set_xlabel(\"Temperature \\n(Celsius)\",size=12)\n",
    "ax.set_ylabel(\"Duration \\n(minutes)\",size=12)\n",
    "ax.legend(loc='upper right')\n",
    "plt.show()"
   ]
  },
  {
   "cell_type": "code",
   "execution_count": 41,
   "id": "cf13e5a7",
   "metadata": {},
   "outputs": [
    {
     "name": "stdout",
     "output_type": "stream",
     "text": [
      "Temperature min and max before normalization:  284.99434167453603 151.32372212128612\n",
      "Duration min and max before normalization:  15.454206928801511 11.512747082472469\n",
      "\n",
      "Temperature min and max after normalization:  1.6597537 -1.6852187\n",
      "Duration min and max after normalization:  1.7932389 -1.6996713\n"
     ]
    }
   ],
   "source": [
    "# Feature scaling - mean normalization\n",
    "# Accelerate back-propagation\n",
    "\n",
    "print('Temperature min and max before normalization: ' ,np.max(X[:,0]), np.min(X[:,0]))\n",
    "print('Duration min and max before normalization: ' ,np.max(X[:,1]), np.min(X[:,1]))\n",
    "\n",
    "norm = tf.keras.layers.Normalization(axis=-1)\n",
    "norm.adapt(X) #learns mean and variance\n",
    "Xn = norm(X)\n",
    "\n",
    "print('\\nTemperature min and max after normalization: ' ,np.max(Xn[:,0]), np.min(Xn[:,0]))\n",
    "print('Duration min and max after normalization: ' ,np.max(Xn[:,1]), np.min(Xn[:,1]))"
   ]
  },
  {
   "cell_type": "code",
   "execution_count": 42,
   "id": "65f8d12d",
   "metadata": {},
   "outputs": [
    {
     "name": "stdout",
     "output_type": "stream",
     "text": [
      "(200000, 2) (200, 1)\n"
     ]
    }
   ],
   "source": [
    "# tile/copy data to increase training set size and reduce #epochs (cycles through the full dataset)\n",
    "Xt = np.tile(Xn,(1000,1))\n",
    "yt = np.tile(y,(1000,1))\n",
    "print(Xt.shape, y.shape)"
   ]
  },
  {
   "cell_type": "code",
   "execution_count": 52,
   "id": "620748c9",
   "metadata": {},
   "outputs": [
    {
     "name": "stdout",
     "output_type": "stream",
     "text": [
      "Model: \"sequential_3\"\n",
      "_________________________________________________________________\n",
      " Layer (type)                Output Shape              Param #   \n",
      "=================================================================\n",
      " layer1 (Dense)              (None, 3)                 9         \n",
      "                                                                 \n",
      " layer2 (Dense)              (None, 1)                 4         \n",
      "                                                                 \n",
      "=================================================================\n",
      "Total params: 13\n",
      "Trainable params: 13\n",
      "Non-trainable params: 0\n",
      "_________________________________________________________________\n"
     ]
    }
   ],
   "source": [
    "# tensorflow deep leanring model\n",
    "\n",
    "tf.random.set_seed(1234) #applied to achieve consistent results\n",
    "model = Sequential(\n",
    "[\n",
    "    tf.keras.Input(shape=(2,)),\n",
    "    tf.keras.layers.Dense(units=3, activation = 'sigmoid', name = 'layer1'),\n",
    "    tf.keras.layers.Dense(units=1, activation = 'sigmoid', name = 'layer2')\n",
    "])\n",
    "\n",
    "model.summary()\n"
   ]
  },
  {
   "cell_type": "code",
   "execution_count": 53,
   "id": "06dba27c",
   "metadata": {},
   "outputs": [
    {
     "name": "stdout",
     "output_type": "stream",
     "text": [
      "W1: [[ 0.12549484  0.13572657  0.57449317]\n",
      " [-1.0806042   0.49414396 -0.15469414]] \n",
      "b1: [0. 0. 0.]\n",
      "W2: [[-0.5714925 ]\n",
      " [ 0.35067773]\n",
      " [-0.05653918]] \n",
      "b2: [0.]\n"
     ]
    }
   ],
   "source": [
    "# check tensorflow weights and biases instantiated\n",
    "\n",
    "w1, b1 = model.get_layer('layer1').get_weights()\n",
    "w2, b2 = model.get_layer('layer2').get_weights()\n",
    "print('W1:',w1,'\\nb1:',b1)\n",
    "print('W2:',w2,'\\nb2:',b2)"
   ]
  },
  {
   "cell_type": "code",
   "execution_count": 55,
   "id": "4ea79d24",
   "metadata": {},
   "outputs": [
    {
     "name": "stdout",
     "output_type": "stream",
     "text": [
      "Epoch 1/10\n",
      "6250/6250 [==============================] - 7s 984us/step - loss: 0.2141\n",
      "Epoch 2/10\n",
      "6250/6250 [==============================] - 6s 1ms/step - loss: 0.1352\n",
      "Epoch 3/10\n",
      "6250/6250 [==============================] - 6s 1ms/step - loss: 0.1286\n",
      "Epoch 4/10\n",
      "6250/6250 [==============================] - 6s 956us/step - loss: 0.1196\n",
      "Epoch 5/10\n",
      "6250/6250 [==============================] - 6s 1ms/step - loss: 0.1113\n",
      "Epoch 6/10\n",
      "6250/6250 [==============================] - 6s 1ms/step - loss: 0.0461\n",
      "Epoch 7/10\n",
      "6250/6250 [==============================] - 6s 1ms/step - loss: 0.0143\n",
      "Epoch 8/10\n",
      "6250/6250 [==============================] - 7s 1ms/step - loss: 0.0094\n",
      "Epoch 9/10\n",
      "6250/6250 [==============================] - 7s 1ms/step - loss: 0.0066\n",
      "Epoch 10/10\n",
      "6250/6250 [==============================] - 7s 1ms/step - loss: 0.0047\n"
     ]
    },
    {
     "data": {
      "text/plain": [
       "<keras.callbacks.History at 0x1c8d0ccf100>"
      ]
     },
     "execution_count": 55,
     "metadata": {},
     "output_type": "execute_result"
    }
   ],
   "source": [
    "#Compile model\n",
    "#The model.compile statement defines a loss function and specifies a compile optimization.\n",
    "#The model.fit statement runs gradient descent and fits the weights to the data.\n",
    "\n",
    "model.compile(\n",
    "    loss = tf.keras.losses.BinaryCrossentropy(),\n",
    "    optimizer = tf.keras.optimizers.Adam(learning_rate=0.01))\n",
    "\n",
    "model.fit(Xt,yt,epochs=10)"
   ]
  },
  {
   "cell_type": "code",
   "execution_count": 56,
   "id": "484a0265",
   "metadata": {},
   "outputs": [
    {
     "name": "stdout",
     "output_type": "stream",
     "text": [
      "W1: [[ 1.3572883e+01 -1.0321506e+01 -1.0692184e-03]\n",
      " [ 1.1269381e+01 -2.0232596e-01 -8.2848539e+00]] \n",
      "b1: [  1.3798373 -11.312136  -10.448573 ]\n",
      "W2: [[-37.07618 ]\n",
      " [-39.243717]\n",
      " [-34.69771 ]] \n",
      "b2: [19.746706]\n"
     ]
    }
   ],
   "source": [
    "#updated model weights\n",
    "w1, b1 = model.get_layer('layer1').get_weights()\n",
    "w2, b2 = model.get_layer('layer2').get_weights()\n",
    "print('W1:',w1,'\\nb1:',b1)\n",
    "print('W2:',w2,'\\nb2:',b2)"
   ]
  },
  {
   "cell_type": "code",
   "execution_count": 58,
   "id": "a60ff741",
   "metadata": {},
   "outputs": [
    {
     "name": "stdout",
     "output_type": "stream",
     "text": [
      "1/1 [==============================] - 0s 74ms/step\n",
      "predictions = \n",
      " [[9.7527111e-01]\n",
      " [2.8858622e-08]]\n"
     ]
    }
   ],
   "source": [
    "# test predictions\n",
    "X_test = np.array([\n",
    "    [200,13.9],  # postive example\n",
    "    [200,17]])   # negative example\n",
    "X_testn = norm(X_test)\n",
    "predictions = model.predict(X_testn)\n",
    "print(\"predictions = \\n\", predictions)"
   ]
  },
  {
   "cell_type": "code",
   "execution_count": 61,
   "id": "a89f333b",
   "metadata": {},
   "outputs": [
    {
     "name": "stdout",
     "output_type": "stream",
     "text": [
      "[1, 0]\n"
     ]
    }
   ],
   "source": [
    "# convert prediction probablity to a desicion (0.5 threshold)\n",
    "yhat = []\n",
    "for prediction in predictions:\n",
    "    if prediction >= 0.5:\n",
    "        yhat.append(1)\n",
    "    else:\n",
    "        yhat.append(0)\n",
    "\n",
    "print(yhat)"
   ]
  }
 ],
 "metadata": {
  "kernelspec": {
   "display_name": "Python 3 (ipykernel)",
   "language": "python",
   "name": "python3"
  },
  "language_info": {
   "codemirror_mode": {
    "name": "ipython",
    "version": 3
   },
   "file_extension": ".py",
   "mimetype": "text/x-python",
   "name": "python",
   "nbconvert_exporter": "python",
   "pygments_lexer": "ipython3",
   "version": "3.9.12"
  }
 },
 "nbformat": 4,
 "nbformat_minor": 5
}
